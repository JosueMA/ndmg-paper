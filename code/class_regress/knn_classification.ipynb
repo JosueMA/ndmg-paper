{
 "cells": [
  {
   "cell_type": "markdown",
   "metadata": {},
   "source": [
    "# K-NearestNeighbour Sex Classification"
   ]
  },
  {
   "cell_type": "markdown",
   "metadata": {},
   "source": [
    "## Initial Setup"
   ]
  },
  {
   "cell_type": "markdown",
   "metadata": {},
   "source": [
    "### Imports"
   ]
  },
  {
   "cell_type": "code",
   "execution_count": 1,
   "metadata": {
    "collapsed": false
   },
   "outputs": [],
   "source": [
    "import numpy as np\n",
    "import networkx as nx\n",
    "import scipy as sp\n",
    "import matplotlib.pyplot as plt\n",
    "import os\n",
    "import csv\n",
    "\n",
    "from collections import OrderedDict\n",
    "from sklearn import cross_validation\n",
    "from sklearn.preprocessing import normalize\n",
    "from sklearn.cross_validation import LeaveOneOut, LeaveOneLabelOut\n",
    "from sklearn.neighbors import KNeighborsClassifier\n",
    "from sklearn.neighbors import KNeighborsRegressor\n",
    "from sklearn.neighbors import DistanceMetric\n",
    "from scipy.linalg import svd\n",
    "\n",
    "%matplotlib inline\n",
    "\n",
    "font = {'weight' : 'bold',\n",
    "        'size'   : 18}\n",
    "\n",
    "import matplotlib\n",
    "matplotlib.rc('font', **font)\n",
    "\n",
    "np.random.seed(12345678)  # for reproducibility, set random seed"
   ]
  },
  {
   "cell_type": "markdown",
   "metadata": {},
   "source": [
    "### Getting File Lists"
   ]
  },
  {
   "cell_type": "code",
   "execution_count": 37,
   "metadata": {
    "collapsed": false
   },
   "outputs": [
    {
     "name": "stdout",
     "output_type": "stream",
     "text": [
      "Datasets: BNU1 (114), BNU3 (47), HNU1 (300), KKI2009 (42), NKI1 (40), SWU4 (454), Templeton114 (114)\n",
      "Total Subjects: 1111\n"
     ]
    }
   ],
   "source": [
    "# Initializing dataset names\n",
    "dataset_names = ['BNU1', 'BNU3', 'HNU1', 'KKI2009', 'NKI1', 'SWU4', 'Templeton114']\n",
    "# only these dsets bc of available covariates\n",
    "\n",
    "basepath = '/Users/gkiar/code/jhu/ocp/ndmg-paper/data/cloud/'\n",
    "# atlas = 'desikan'\n",
    "dir_names = [basepath + '/' + d for d in dataset_names]\n",
    "\n",
    "#  Crawls directories and creates a dictionary entry of file names for each\n",
    "#  dataset which we plan to process.\n",
    "fs = OrderedDict()\n",
    "for idx, dd in enumerate(dataset_names):\n",
    "    fs[dd] = [root + \"/\" + fl for root, dirs, files in os.walk(dir_names[idx])\n",
    "              for fl in files if fl.endswith(\".gpickle\")]\n",
    "\n",
    "ps = {os.path.splitext(os.path.basename(fl))[0] : root + \"/\" + fl\n",
    "      for root, dirs, files in os.walk(basepath+'phenotypes')\n",
    "      for fl in files if fl.endswith(\".csv\") }\n",
    "\n",
    "print \"Datasets: \" + \", \".join([fkey + ' (' + str(len(fs[fkey])) + ')'\n",
    "                                for fkey in fs])\n",
    "print \"Total Subjects: %d\" % (sum([len(fs[key]) for key in fs]))\n"
   ]
  },
  {
   "cell_type": "code",
   "execution_count": 38,
   "metadata": {
    "collapsed": false
   },
   "outputs": [
    {
     "data": {
      "text/plain": [
       "{'BNU1': '/Users/gkiar/code/jhu/ocp/ndmg-paper/data/cloud/phenotypes/BNU1.csv',\n",
       " 'BNU3': '/Users/gkiar/code/jhu/ocp/ndmg-paper/data/cloud/phenotypes/BNU3.csv',\n",
       " 'HNU1': '/Users/gkiar/code/jhu/ocp/ndmg-paper/data/cloud/phenotypes/HNU1.csv',\n",
       " 'KKI2009': '/Users/gkiar/code/jhu/ocp/ndmg-paper/data/cloud/phenotypes/KKI2009.csv',\n",
       " 'NKI1': '/Users/gkiar/code/jhu/ocp/ndmg-paper/data/cloud/phenotypes/NKI1.csv',\n",
       " 'SWU4': '/Users/gkiar/code/jhu/ocp/ndmg-paper/data/cloud/phenotypes/SWU4.csv',\n",
       " 'Templeton114': '/Users/gkiar/code/jhu/ocp/ndmg-paper/data/cloud/phenotypes/Templeton114.csv'}"
      ]
     },
     "execution_count": 38,
     "metadata": {},
     "output_type": "execute_result"
    }
   ],
   "source": [
    "ps"
   ]
  },
  {
   "cell_type": "code",
   "execution_count": 39,
   "metadata": {
    "collapsed": false
   },
   "outputs": [
    {
     "data": {
      "text/plain": [
       "'/Users/gkiar/code/jhu/ocp/ndmg-paper/data/cloud//BNU1/sub-0025864_ses-1_dwi_desikan.gpickle'"
      ]
     },
     "execution_count": 39,
     "metadata": {},
     "output_type": "execute_result"
    }
   ],
   "source": [
    "fs['BNU1'][0]"
   ]
  },
  {
   "cell_type": "markdown",
   "metadata": {},
   "source": [
    "### Declaring Graph Read Helper Functions"
   ]
  },
  {
   "cell_type": "code",
   "execution_count": 40,
   "metadata": {
    "collapsed": true
   },
   "outputs": [],
   "source": [
    "def loadGraphs(filenames, verb=False):\n",
    "    \"\"\"\n",
    "    Given a list of files, returns a dictionary of graphs\n",
    "\n",
    "    Required parameters:\n",
    "        filenames:\n",
    "            - List of filenames for graphs\n",
    "    Optional parameters:\n",
    "        verb:\n",
    "            - Toggles verbose output statements\n",
    "    \"\"\"\n",
    "    #  Initializes empty dictionary\n",
    "    gstruct = OrderedDict()\n",
    "    for idx, files in enumerate(filenames):\n",
    "        if verb:\n",
    "            print \"Loading: \" + files\n",
    "        #  Adds graphs to dictionary with key being filename\n",
    "        fname = os.path.basename(files)\n",
    "        gstruct[fname] = nx.read_gpickle(files)\n",
    "    return gstruct\n",
    "\n",
    "def constructGraphDict(names, fs, verb=False):\n",
    "    \"\"\"\n",
    "    Given a set of files and a directory to put things, loads graphs.\n",
    "\n",
    "    Required parameters:\n",
    "        names:\n",
    "            - List of names of the datasets\n",
    "        fs:\n",
    "            - Dictionary of lists of files in each dataset\n",
    "    Optional parameters:\n",
    "        verb:\n",
    "            - Toggles verbose output statements\n",
    "    \"\"\"\n",
    "    #  Loads graphs into memory for all datasets\n",
    "    graphs = OrderedDict()\n",
    "    for idx, name in enumerate(names):\n",
    "        if verb:\n",
    "            print \"Loading Dataset: \" + name\n",
    "        # The key for the dictionary of graphs is the dataset name\n",
    "        graphs[name] = loadGraphs(fs[name], verb=verb)\n",
    "    return graphs"
   ]
  },
  {
   "cell_type": "markdown",
   "metadata": {},
   "source": [
    "### Reading Graphs"
   ]
  },
  {
   "cell_type": "code",
   "execution_count": 41,
   "metadata": {
    "collapsed": false
   },
   "outputs": [],
   "source": [
    "graphs = constructGraphDict(dataset_names, fs, verb=False)"
   ]
  },
  {
   "cell_type": "markdown",
   "metadata": {},
   "source": [
    "### Reading Phenotypes"
   ]
  },
  {
   "cell_type": "code",
   "execution_count": 55,
   "metadata": {
    "collapsed": false,
    "scrolled": true
   },
   "outputs": [],
   "source": [
    "phenotypes = OrderedDict()\n",
    "for dataset in dataset_names:\n",
    "    tmp = csv.reader(open(ps[dataset]))\n",
    "    pheno = OrderedDict()\n",
    "    if dataset == 'KKI2009':\n",
    "        triple = [[t[1].strip(), t[4], int(t[5] == 'M')] for t in tmp][1:]  # female=F->0, male=M->1\n",
    "    elif dataset == 'Templeton114':\n",
    "        triple = [[t[0].strip(), t[3], int(t[2] == '1')] for t in tmp][1:]  # female=0->0, male=1->1\n",
    "    else:\n",
    "        triple = [[t[0].strip(), t[2], int(t[3] == '2')] for t in tmp\n",
    "                  if t[3] != '#' and t[2] != '#'][1:]  # female=1->0, male=2->1\n",
    "    \n",
    "    for idx, trip in enumerate(triple):\n",
    "        pheno[trip[0]] = trip[1:]\n",
    "    phenotypes[dataset] = pheno"
   ]
  },
  {
   "cell_type": "markdown",
   "metadata": {},
   "source": [
    "### Converting Graphs to Vectors and Phenotypes to List"
   ]
  },
  {
   "cell_type": "code",
   "execution_count": 57,
   "metadata": {
    "collapsed": false,
    "scrolled": true
   },
   "outputs": [
    {
     "name": "stdout",
     "output_type": "stream",
     "text": [
      "BNU1\n",
      "BNU3\n",
      "HNU1\n",
      "KKI2009\n",
      "NKI1\n",
      "SWU4\n",
      "Templeton114\n",
      "(1111, 2415) (1111,) (1111,)\n",
      "562 549\n",
      "['BNU1', 'BNU1', 'BNU1', 'BNU1', 'BNU1', 'BNU1', 'BNU1', 'BNU1', 'BNU1', 'BNU1', 'BNU1', 'BNU1', 'BNU1', 'BNU1', 'BNU1', 'BNU1', 'BNU1', 'BNU1', 'BNU1', 'BNU1', 'BNU1', 'BNU1', 'BNU1', 'BNU1', 'BNU1', 'BNU1', 'BNU1', 'BNU1', 'BNU1', 'BNU1', 'BNU1', 'BNU1', 'BNU1', 'BNU1', 'BNU1', 'BNU1', 'BNU1', 'BNU1', 'BNU1', 'BNU1', 'BNU1', 'BNU1', 'BNU1', 'BNU1', 'BNU1', 'BNU1', 'BNU1', 'BNU1', 'BNU1', 'BNU1', 'BNU1', 'BNU1', 'BNU1', 'BNU1', 'BNU1', 'BNU1', 'BNU1', 'BNU1', 'BNU1', 'BNU1', 'BNU1', 'BNU1', 'BNU1', 'BNU1', 'BNU1', 'BNU1', 'BNU1', 'BNU1', 'BNU1', 'BNU1', 'BNU1', 'BNU1', 'BNU1', 'BNU1', 'BNU1', 'BNU1', 'BNU1', 'BNU1', 'BNU1', 'BNU1', 'BNU1', 'BNU1', 'BNU1', 'BNU1', 'BNU1', 'BNU1', 'BNU1', 'BNU1', 'BNU1', 'BNU1', 'BNU1', 'BNU1', 'BNU1', 'BNU1', 'BNU1', 'BNU1', 'BNU1', 'BNU1', 'BNU1', 'BNU1', 'BNU1', 'BNU1', 'BNU1', 'BNU1', 'BNU1', 'BNU1', 'BNU1', 'BNU1', 'BNU1', 'BNU1', 'BNU1', 'BNU1', 'BNU1', 'BNU1', 'BNU3', 'BNU3', 'BNU3', 'BNU3', 'BNU3', 'BNU3', 'BNU3', 'BNU3', 'BNU3', 'BNU3', 'BNU3', 'BNU3', 'BNU3', 'BNU3', 'BNU3', 'BNU3', 'BNU3', 'BNU3', 'BNU3', 'BNU3', 'BNU3', 'BNU3', 'BNU3', 'BNU3', 'BNU3', 'BNU3', 'BNU3', 'BNU3', 'BNU3', 'BNU3', 'BNU3', 'BNU3', 'BNU3', 'BNU3', 'BNU3', 'BNU3', 'BNU3', 'BNU3', 'BNU3', 'BNU3', 'BNU3', 'BNU3', 'BNU3', 'BNU3', 'BNU3', 'BNU3', 'BNU3', 'HNU1', 'HNU1', 'HNU1', 'HNU1', 'HNU1', 'HNU1', 'HNU1', 'HNU1', 'HNU1', 'HNU1', 'HNU1', 'HNU1', 'HNU1', 'HNU1', 'HNU1', 'HNU1', 'HNU1', 'HNU1', 'HNU1', 'HNU1', 'HNU1', 'HNU1', 'HNU1', 'HNU1', 'HNU1', 'HNU1', 'HNU1', 'HNU1', 'HNU1', 'HNU1', 'HNU1', 'HNU1', 'HNU1', 'HNU1', 'HNU1', 'HNU1', 'HNU1', 'HNU1', 'HNU1', 'HNU1', 'HNU1', 'HNU1', 'HNU1', 'HNU1', 'HNU1', 'HNU1', 'HNU1', 'HNU1', 'HNU1', 'HNU1', 'HNU1', 'HNU1', 'HNU1', 'HNU1', 'HNU1', 'HNU1', 'HNU1', 'HNU1', 'HNU1', 'HNU1', 'HNU1', 'HNU1', 'HNU1', 'HNU1', 'HNU1', 'HNU1', 'HNU1', 'HNU1', 'HNU1', 'HNU1', 'HNU1', 'HNU1', 'HNU1', 'HNU1', 'HNU1', 'HNU1', 'HNU1', 'HNU1', 'HNU1', 'HNU1', 'HNU1', 'HNU1', 'HNU1', 'HNU1', 'HNU1', 'HNU1', 'HNU1', 'HNU1', 'HNU1', 'HNU1', 'HNU1', 'HNU1', 'HNU1', 'HNU1', 'HNU1', 'HNU1', 'HNU1', 'HNU1', 'HNU1', 'HNU1', 'HNU1', 'HNU1', 'HNU1', 'HNU1', 'HNU1', 'HNU1', 'HNU1', 'HNU1', 'HNU1', 'HNU1', 'HNU1', 'HNU1', 'HNU1', 'HNU1', 'HNU1', 'HNU1', 'HNU1', 'HNU1', 'HNU1', 'HNU1', 'HNU1', 'HNU1', 'HNU1', 'HNU1', 'HNU1', 'HNU1', 'HNU1', 'HNU1', 'HNU1', 'HNU1', 'HNU1', 'HNU1', 'HNU1', 'HNU1', 'HNU1', 'HNU1', 'HNU1', 'HNU1', 'HNU1', 'HNU1', 'HNU1', 'HNU1', 'HNU1', 'HNU1', 'HNU1', 'HNU1', 'HNU1', 'HNU1', 'HNU1', 'HNU1', 'HNU1', 'HNU1', 'HNU1', 'HNU1', 'HNU1', 'HNU1', 'HNU1', 'HNU1', 'HNU1', 'HNU1', 'HNU1', 'HNU1', 'HNU1', 'HNU1', 'HNU1', 'HNU1', 'HNU1', 'HNU1', 'HNU1', 'HNU1', 'HNU1', 'HNU1', 'HNU1', 'HNU1', 'HNU1', 'HNU1', 'HNU1', 'HNU1', 'HNU1', 'HNU1', 'HNU1', 'HNU1', 'HNU1', 'HNU1', 'HNU1', 'HNU1', 'HNU1', 'HNU1', 'HNU1', 'HNU1', 'HNU1', 'HNU1', 'HNU1', 'HNU1', 'HNU1', 'HNU1', 'HNU1', 'HNU1', 'HNU1', 'HNU1', 'HNU1', 'HNU1', 'HNU1', 'HNU1', 'HNU1', 'HNU1', 'HNU1', 'HNU1', 'HNU1', 'HNU1', 'HNU1', 'HNU1', 'HNU1', 'HNU1', 'HNU1', 'HNU1', 'HNU1', 'HNU1', 'HNU1', 'HNU1', 'HNU1', 'HNU1', 'HNU1', 'HNU1', 'HNU1', 'HNU1', 'HNU1', 'HNU1', 'HNU1', 'HNU1', 'HNU1', 'HNU1', 'HNU1', 'HNU1', 'HNU1', 'HNU1', 'HNU1', 'HNU1', 'HNU1', 'HNU1', 'HNU1', 'HNU1', 'HNU1', 'HNU1', 'HNU1', 'HNU1', 'HNU1', 'HNU1', 'HNU1', 'HNU1', 'HNU1', 'HNU1', 'HNU1', 'HNU1', 'HNU1', 'HNU1', 'HNU1', 'HNU1', 'HNU1', 'HNU1', 'HNU1', 'HNU1', 'HNU1', 'HNU1', 'HNU1', 'HNU1', 'HNU1', 'HNU1', 'HNU1', 'HNU1', 'HNU1', 'HNU1', 'HNU1', 'HNU1', 'HNU1', 'HNU1', 'HNU1', 'HNU1', 'HNU1', 'HNU1', 'HNU1', 'HNU1', 'HNU1', 'HNU1', 'HNU1', 'HNU1', 'HNU1', 'HNU1', 'HNU1', 'HNU1', 'HNU1', 'HNU1', 'HNU1', 'HNU1', 'HNU1', 'HNU1', 'HNU1', 'HNU1', 'HNU1', 'HNU1', 'KKI2009', 'KKI2009', 'KKI2009', 'KKI2009', 'KKI2009', 'KKI2009', 'KKI2009', 'KKI2009', 'KKI2009', 'KKI2009', 'KKI2009', 'KKI2009', 'KKI2009', 'KKI2009', 'KKI2009', 'KKI2009', 'KKI2009', 'KKI2009', 'KKI2009', 'KKI2009', 'KKI2009', 'KKI2009', 'KKI2009', 'KKI2009', 'KKI2009', 'KKI2009', 'KKI2009', 'KKI2009', 'KKI2009', 'KKI2009', 'KKI2009', 'KKI2009', 'KKI2009', 'KKI2009', 'KKI2009', 'KKI2009', 'KKI2009', 'KKI2009', 'KKI2009', 'KKI2009', 'KKI2009', 'KKI2009', 'NKI1', 'NKI1', 'NKI1', 'NKI1', 'NKI1', 'NKI1', 'NKI1', 'NKI1', 'NKI1', 'NKI1', 'NKI1', 'NKI1', 'NKI1', 'NKI1', 'NKI1', 'NKI1', 'NKI1', 'NKI1', 'NKI1', 'NKI1', 'NKI1', 'NKI1', 'NKI1', 'NKI1', 'NKI1', 'NKI1', 'NKI1', 'NKI1', 'NKI1', 'NKI1', 'NKI1', 'NKI1', 'NKI1', 'NKI1', 'NKI1', 'NKI1', 'NKI1', 'NKI1', 'NKI1', 'NKI1', 'SWU4', 'SWU4', 'SWU4', 'SWU4', 'SWU4', 'SWU4', 'SWU4', 'SWU4', 'SWU4', 'SWU4', 'SWU4', 'SWU4', 'SWU4', 'SWU4', 'SWU4', 'SWU4', 'SWU4', 'SWU4', 'SWU4', 'SWU4', 'SWU4', 'SWU4', 'SWU4', 'SWU4', 'SWU4', 'SWU4', 'SWU4', 'SWU4', 'SWU4', 'SWU4', 'SWU4', 'SWU4', 'SWU4', 'SWU4', 'SWU4', 'SWU4', 'SWU4', 'SWU4', 'SWU4', 'SWU4', 'SWU4', 'SWU4', 'SWU4', 'SWU4', 'SWU4', 'SWU4', 'SWU4', 'SWU4', 'SWU4', 'SWU4', 'SWU4', 'SWU4', 'SWU4', 'SWU4', 'SWU4', 'SWU4', 'SWU4', 'SWU4', 'SWU4', 'SWU4', 'SWU4', 'SWU4', 'SWU4', 'SWU4', 'SWU4', 'SWU4', 'SWU4', 'SWU4', 'SWU4', 'SWU4', 'SWU4', 'SWU4', 'SWU4', 'SWU4', 'SWU4', 'SWU4', 'SWU4', 'SWU4', 'SWU4', 'SWU4', 'SWU4', 'SWU4', 'SWU4', 'SWU4', 'SWU4', 'SWU4', 'SWU4', 'SWU4', 'SWU4', 'SWU4', 'SWU4', 'SWU4', 'SWU4', 'SWU4', 'SWU4', 'SWU4', 'SWU4', 'SWU4', 'SWU4', 'SWU4', 'SWU4', 'SWU4', 'SWU4', 'SWU4', 'SWU4', 'SWU4', 'SWU4', 'SWU4', 'SWU4', 'SWU4', 'SWU4', 'SWU4', 'SWU4', 'SWU4', 'SWU4', 'SWU4', 'SWU4', 'SWU4', 'SWU4', 'SWU4', 'SWU4', 'SWU4', 'SWU4', 'SWU4', 'SWU4', 'SWU4', 'SWU4', 'SWU4', 'SWU4', 'SWU4', 'SWU4', 'SWU4', 'SWU4', 'SWU4', 'SWU4', 'SWU4', 'SWU4', 'SWU4', 'SWU4', 'SWU4', 'SWU4', 'SWU4', 'SWU4', 'SWU4', 'SWU4', 'SWU4', 'SWU4', 'SWU4', 'SWU4', 'SWU4', 'SWU4', 'SWU4', 'SWU4', 'SWU4', 'SWU4', 'SWU4', 'SWU4', 'SWU4', 'SWU4', 'SWU4', 'SWU4', 'SWU4', 'SWU4', 'SWU4', 'SWU4', 'SWU4', 'SWU4', 'SWU4', 'SWU4', 'SWU4', 'SWU4', 'SWU4', 'SWU4', 'SWU4', 'SWU4', 'SWU4', 'SWU4', 'SWU4', 'SWU4', 'SWU4', 'SWU4', 'SWU4', 'SWU4', 'SWU4', 'SWU4', 'SWU4', 'SWU4', 'SWU4', 'SWU4', 'SWU4', 'SWU4', 'SWU4', 'SWU4', 'SWU4', 'SWU4', 'SWU4', 'SWU4', 'SWU4', 'SWU4', 'SWU4', 'SWU4', 'SWU4', 'SWU4', 'SWU4', 'SWU4', 'SWU4', 'SWU4', 'SWU4', 'SWU4', 'SWU4', 'SWU4', 'SWU4', 'SWU4', 'SWU4', 'SWU4', 'SWU4', 'SWU4', 'SWU4', 'SWU4', 'SWU4', 'SWU4', 'SWU4', 'SWU4', 'SWU4', 'SWU4', 'SWU4', 'SWU4', 'SWU4', 'SWU4', 'SWU4', 'SWU4', 'SWU4', 'SWU4', 'SWU4', 'SWU4', 'SWU4', 'SWU4', 'SWU4', 'SWU4', 'SWU4', 'SWU4', 'SWU4', 'SWU4', 'SWU4', 'SWU4', 'SWU4', 'SWU4', 'SWU4', 'SWU4', 'SWU4', 'SWU4', 'SWU4', 'SWU4', 'SWU4', 'SWU4', 'SWU4', 'SWU4', 'SWU4', 'SWU4', 'SWU4', 'SWU4', 'SWU4', 'SWU4', 'SWU4', 'SWU4', 'SWU4', 'SWU4', 'SWU4', 'SWU4', 'SWU4', 'SWU4', 'SWU4', 'SWU4', 'SWU4', 'SWU4', 'SWU4', 'SWU4', 'SWU4', 'SWU4', 'SWU4', 'SWU4', 'SWU4', 'SWU4', 'SWU4', 'SWU4', 'SWU4', 'SWU4', 'SWU4', 'SWU4', 'SWU4', 'SWU4', 'SWU4', 'SWU4', 'SWU4', 'SWU4', 'SWU4', 'SWU4', 'SWU4', 'SWU4', 'SWU4', 'SWU4', 'SWU4', 'SWU4', 'SWU4', 'SWU4', 'SWU4', 'SWU4', 'SWU4', 'SWU4', 'SWU4', 'SWU4', 'SWU4', 'SWU4', 'SWU4', 'SWU4', 'SWU4', 'SWU4', 'SWU4', 'SWU4', 'SWU4', 'SWU4', 'SWU4', 'SWU4', 'SWU4', 'SWU4', 'SWU4', 'SWU4', 'SWU4', 'SWU4', 'SWU4', 'SWU4', 'SWU4', 'SWU4', 'SWU4', 'SWU4', 'SWU4', 'SWU4', 'SWU4', 'SWU4', 'SWU4', 'SWU4', 'SWU4', 'SWU4', 'SWU4', 'SWU4', 'SWU4', 'SWU4', 'SWU4', 'SWU4', 'SWU4', 'SWU4', 'SWU4', 'SWU4', 'SWU4', 'SWU4', 'SWU4', 'SWU4', 'SWU4', 'SWU4', 'SWU4', 'SWU4', 'SWU4', 'SWU4', 'SWU4', 'SWU4', 'SWU4', 'SWU4', 'SWU4', 'SWU4', 'SWU4', 'SWU4', 'SWU4', 'SWU4', 'SWU4', 'SWU4', 'SWU4', 'SWU4', 'SWU4', 'SWU4', 'SWU4', 'SWU4', 'SWU4', 'SWU4', 'SWU4', 'SWU4', 'SWU4', 'SWU4', 'SWU4', 'SWU4', 'SWU4', 'SWU4', 'SWU4', 'SWU4', 'SWU4', 'SWU4', 'SWU4', 'SWU4', 'SWU4', 'SWU4', 'SWU4', 'SWU4', 'SWU4', 'SWU4', 'SWU4', 'SWU4', 'SWU4', 'SWU4', 'SWU4', 'SWU4', 'SWU4', 'SWU4', 'SWU4', 'SWU4', 'SWU4', 'SWU4', 'SWU4', 'SWU4', 'SWU4', 'SWU4', 'SWU4', 'SWU4', 'SWU4', 'SWU4', 'SWU4', 'SWU4', 'SWU4', 'SWU4', 'SWU4', 'SWU4', 'SWU4', 'SWU4', 'SWU4', 'SWU4', 'SWU4', 'SWU4', 'SWU4', 'SWU4', 'SWU4', 'SWU4', 'SWU4', 'SWU4', 'SWU4', 'SWU4', 'SWU4', 'SWU4', 'SWU4', 'SWU4', 'SWU4', 'SWU4', 'SWU4', 'SWU4', 'SWU4', 'SWU4', 'SWU4', 'Templeton114', 'Templeton114', 'Templeton114', 'Templeton114', 'Templeton114', 'Templeton114', 'Templeton114', 'Templeton114', 'Templeton114', 'Templeton114', 'Templeton114', 'Templeton114', 'Templeton114', 'Templeton114', 'Templeton114', 'Templeton114', 'Templeton114', 'Templeton114', 'Templeton114', 'Templeton114', 'Templeton114', 'Templeton114', 'Templeton114', 'Templeton114', 'Templeton114', 'Templeton114', 'Templeton114', 'Templeton114', 'Templeton114', 'Templeton114', 'Templeton114', 'Templeton114', 'Templeton114', 'Templeton114', 'Templeton114', 'Templeton114', 'Templeton114', 'Templeton114', 'Templeton114', 'Templeton114', 'Templeton114', 'Templeton114', 'Templeton114', 'Templeton114', 'Templeton114', 'Templeton114', 'Templeton114', 'Templeton114', 'Templeton114', 'Templeton114', 'Templeton114', 'Templeton114', 'Templeton114', 'Templeton114', 'Templeton114', 'Templeton114', 'Templeton114', 'Templeton114', 'Templeton114', 'Templeton114', 'Templeton114', 'Templeton114', 'Templeton114', 'Templeton114', 'Templeton114', 'Templeton114', 'Templeton114', 'Templeton114', 'Templeton114', 'Templeton114', 'Templeton114', 'Templeton114', 'Templeton114', 'Templeton114', 'Templeton114', 'Templeton114', 'Templeton114', 'Templeton114', 'Templeton114', 'Templeton114', 'Templeton114', 'Templeton114', 'Templeton114', 'Templeton114', 'Templeton114', 'Templeton114', 'Templeton114', 'Templeton114', 'Templeton114', 'Templeton114', 'Templeton114', 'Templeton114', 'Templeton114', 'Templeton114', 'Templeton114', 'Templeton114', 'Templeton114', 'Templeton114', 'Templeton114', 'Templeton114', 'Templeton114', 'Templeton114', 'Templeton114', 'Templeton114', 'Templeton114', 'Templeton114', 'Templeton114', 'Templeton114', 'Templeton114', 'Templeton114', 'Templeton114', 'Templeton114', 'Templeton114', 'Templeton114']\n"
     ]
    }
   ],
   "source": [
    "N = nx.number_of_nodes(graphs[graphs.keys()[0]][graphs[graphs.keys()[0]].keys()[0]])\n",
    "feat = np.empty((0, int(sp.special.binom(N,2))), int)\n",
    "dats = list(())\n",
    "ages = np.array(())\n",
    "sexy = np.array(())\n",
    "sbjs = list(())\n",
    "\n",
    "\n",
    "for idx1, dset in enumerate(graphs):\n",
    "    print(dset)\n",
    "    for idx2, subj in enumerate(graphs[dset]):\n",
    "        A = nx.adjacency_matrix(graphs[dset][subj]).todense()\n",
    "        Au = A[np.triu_indices(A.shape[0], 1)]\n",
    "        feat = np.append(feat, Au, axis=0)\n",
    "        dats.append(dset)\n",
    "\n",
    "        try:\n",
    "            subj_id = str(int(subj.split('-')[1].split('_')[0]))\n",
    "        except:\n",
    "            subj_id = subj.split('-')[1].split('_')[0]\n",
    "\n",
    "        sbjs.append(subj_id)\n",
    "#         print(subj_id)\n",
    "        ages = np.append(ages, int(phenotypes[dset][subj_id][0]))\n",
    "        sexy = np.append(sexy, int(phenotypes[dset][subj_id][1]))\n",
    "print feat.shape, ages.shape, sexy.shape\n",
    "print sum(sexy == 0), sum(sexy == 1)"
   ]
  },
  {
   "cell_type": "markdown",
   "metadata": {},
   "source": [
    "---------\n",
    "\n",
    "---------\n",
    "\n",
    "## Classify Graphs"
   ]
  },
  {
   "cell_type": "markdown",
   "metadata": {},
   "source": [
    "### KNN LOO Scan Cross Validation"
   ]
  },
  {
   "cell_type": "code",
   "execution_count": 58,
   "metadata": {
    "collapsed": false
   },
   "outputs": [
    {
     "name": "stdout",
     "output_type": "stream",
     "text": [
      "Neighbourhoods complete: 3 5 7 9 11 13 15 17 19 21 23 25 27 29 31 33 35 37 39 .\n"
     ]
    }
   ],
   "source": [
    "c_mean_loo_scan = np.array(())\n",
    "c_std_loo_scan = np.array(())\n",
    "neighbourhoods = (np.arange(19)+2)*2-1\n",
    "print \"Neighbourhoods complete:\",\n",
    "for i in neighbourhoods:\n",
    "    classif = KNeighborsClassifier(i)\n",
    "    loo = LeaveOneOut(len(sexy))\n",
    "    score = cross_validation.cross_val_score(classif, feat, sexy, cv=loo)\n",
    "    c_mean_loo_scan = np.append(c_mean_loo_scan, score.mean())\n",
    "    c_std_loo_scan = np.append(c_std_loo_scan, score.std())\n",
    "    print i,\n",
    "print \".\"\n",
    "#     print(\"Accuracy for community size %d: %0.2f (+/- %0.2f)\" % (i, score.mean(), score.std()))"
   ]
  },
  {
   "cell_type": "markdown",
   "metadata": {},
   "source": [
    "### KNN LOO Subject Cross Validation"
   ]
  },
  {
   "cell_type": "code",
   "execution_count": 59,
   "metadata": {
    "collapsed": false
   },
   "outputs": [
    {
     "name": "stdout",
     "output_type": "stream",
     "text": [
      "Neighbourhoods complete: 3 5 7 9 11 13 15 17 19 21 23 25 27 29 31 33 35 37 39 .\n"
     ]
    }
   ],
   "source": [
    "c_mean_loo_subj = np.array(())\n",
    "c_std_loo_subj = np.array(())\n",
    "print \"Neighbourhoods complete:\",\n",
    "for i in neighbourhoods:\n",
    "    classif = KNeighborsClassifier(i)\n",
    "    lolo = LeaveOneLabelOut(sbjs)\n",
    "    score = cross_validation.cross_val_score(classif, feat, sexy, cv=lolo)\n",
    "    c_mean_loo_subj = np.append(c_mean_loo_subj, score.mean())\n",
    "    c_std_loo_subj = np.append(c_std_loo_subj, score.std())\n",
    "    print i,\n",
    "print \".\"\n",
    "#     print(\"Accuracy for community size %d: %0.2f (+/- %0.2f)\" % (i, score.mean(), score.std()))"
   ]
  },
  {
   "cell_type": "markdown",
   "metadata": {},
   "source": [
    "### KNN LOO Dataset"
   ]
  },
  {
   "cell_type": "code",
   "execution_count": 60,
   "metadata": {
    "collapsed": false,
    "scrolled": true
   },
   "outputs": [],
   "source": [
    "knn = OrderedDict()\n",
    "for i in neighbourhoods:\n",
    "    classif = KNeighborsClassifier(i)\n",
    "    tmp = np.array(())\n",
    "    for idx, dset in enumerate(dataset_names):\n",
    "        ind = np.array([dset == d for d in dats])\n",
    "        ft_train = feat[ind < 1] # current dataset is test\n",
    "        ft_test = feat[ind >= 1] # all others are train\n",
    "        sx_train = sexy[ind < 1]\n",
    "        sx_test = sexy[ind >= 1]\n",
    "        classif.fit(ft_train, sx_train)\n",
    "        score = classif.score(ft_test, sx_test)\n",
    "        tmp = np.append(tmp, score)\n",
    "#         print \"Classification Accuracy: %.5f (%0.5f)\" % (score, 1-score)\n",
    "    knn[i] = tmp\n",
    "\n",
    "c_knn_loo_dsetx = np.array(())\n",
    "c_knn_loo_dsety = np.array(())\n",
    "for i in neighbourhoods:\n",
    "    c_knn_loo_dsetx = np.append(c_knn_loo_dsetx, np.repeat(i, len(dataset_names))+1*np.random.rand(len(dataset_names)))\n",
    "    c_knn_loo_dsety = np.append(c_knn_loo_dsety, knn[i])"
   ]
  },
  {
   "cell_type": "markdown",
   "metadata": {},
   "source": [
    "### KNN LOO Dataset after subtracting cohort mean"
   ]
  },
  {
   "cell_type": "code",
   "execution_count": 61,
   "metadata": {
    "collapsed": false
   },
   "outputs": [],
   "source": [
    "feat_cm = np.copy(feat)\n",
    "# print feat[600]\n",
    "for idx, dset in enumerate(dataset_names):\n",
    "    ind = np.array([dset == d for d in dats])\n",
    "    curr = feat_cm[ind < 1] # current dataset is test\n",
    "    mean = np.mean(curr, axis=0)\n",
    "    updated = curr - mean\n",
    "    feat_cm[ind < 1] = updated\n",
    "# print feat_cm[600]"
   ]
  },
  {
   "cell_type": "code",
   "execution_count": 62,
   "metadata": {
    "collapsed": false,
    "scrolled": true
   },
   "outputs": [],
   "source": [
    "knn = OrderedDict()\n",
    "for i in neighbourhoods:\n",
    "    classif = KNeighborsClassifier(n_neighbors=2*(i+1)-1)\n",
    "    tmp = np.array(())\n",
    "    for idx, dset in enumerate(dataset_names):\n",
    "        ind = np.array([dset == d for d in dats])\n",
    "        ft_train = feat_cm[ind < 1] # current dataset is test\n",
    "        ft_test = feat_cm[ind >= 1] # all others are train\n",
    "        sx_train = sexy[ind < 1]\n",
    "        sx_test = sexy[ind >= 1]\n",
    "        classif.fit(ft_train, sx_train)\n",
    "        score = classif.score(ft_test, sx_test)\n",
    "        tmp = np.append(tmp, score)\n",
    "#         print \"Classification Accuracy: %.5f (%0.5f)\" % (score, 1-score)\n",
    "    knn[i] = tmp\n",
    "\n",
    "c_knn_loo_dset_cmx = np.array(())\n",
    "c_knn_loo_dset_cmy = np.array(())\n",
    "for i in neighbourhoods:\n",
    "    c_knn_loo_dset_cmx = np.append(c_knn_loo_dset_cmx, np.repeat(i, len(dataset_names))+1*np.random.rand(len(dataset_names)))\n",
    "    c_knn_loo_dset_cmy = np.append(c_knn_loo_dset_cmy, knn[i])"
   ]
  },
  {
   "cell_type": "markdown",
   "metadata": {},
   "source": [
    "### KNN LOO Dataset after subtracting population and then cohort means"
   ]
  },
  {
   "cell_type": "code",
   "execution_count": 63,
   "metadata": {
    "collapsed": false
   },
   "outputs": [],
   "source": [
    "pm = np.mean(feat, axis=0)\n",
    "feat_pm = feat - pm\n",
    "\n",
    "feat_pm_cm = np.copy(feat_pm)\n",
    "# print feat_pm[600]\n",
    "for idx, dset in enumerate(dataset_names):\n",
    "    ind = np.array([dset == d for d in dats])\n",
    "    curr = feat_pm_cm[ind < 1] # current dataset is test\n",
    "    mean = np.mean(curr, axis=0)\n",
    "    updated = curr - mean\n",
    "    feat_pm_cm[ind < 1] = updated\n",
    "# print feat_pm_cm[600]"
   ]
  },
  {
   "cell_type": "code",
   "execution_count": 64,
   "metadata": {
    "collapsed": false,
    "scrolled": true
   },
   "outputs": [],
   "source": [
    "knn = OrderedDict()\n",
    "for i in neighbourhoods:\n",
    "    classif = KNeighborsClassifier(n_neighbors=2*(i+1)-1)\n",
    "    tmp = np.array(())\n",
    "    for idx, dset in enumerate(dataset_names):\n",
    "        ind = np.array([dset == d for d in dats])\n",
    "        ft_train = feat_pm_cm[ind < 1] # current dataset is test\n",
    "        ft_test = feat_pm_cm[ind >= 1] # all others are train\n",
    "        sx_train = sexy[ind < 1]\n",
    "        sx_test = sexy[ind >= 1]\n",
    "        classif.fit(ft_train, sx_train)\n",
    "        score = classif.score(ft_test, sx_test)\n",
    "        tmp = np.append(tmp, score)\n",
    "#         print \"Classification Accuracy: %.5f (%0.5f)\" % (score, 1-score)\n",
    "    knn[i] = tmp\n",
    "\n",
    "c_knn_loo_dset_pmcmx = np.array(())\n",
    "c_knn_loo_dset_pmcmy = np.array(())\n",
    "for i in neighbourhoods:\n",
    "    c_knn_loo_dset_pmcmx = np.append(c_knn_loo_dset_pmcmx, np.repeat(i, len(dataset_names))+1*np.random.rand(len(dataset_names)))\n",
    "    c_knn_loo_dset_pmcmy = np.append(c_knn_loo_dset_pmcmy, knn[i])"
   ]
  },
  {
   "cell_type": "markdown",
   "metadata": {},
   "source": [
    "### KNN LOO Dataset after normalizing data"
   ]
  },
  {
   "cell_type": "code",
   "execution_count": 65,
   "metadata": {
    "collapsed": false
   },
   "outputs": [
    {
     "name": "stderr",
     "output_type": "stream",
     "text": [
      "/usr/local/lib/python2.7/site-packages/sklearn/utils/validation.py:420: DataConversionWarning: Data with input dtype int64 was converted to float64 by the normalize function.\n",
      "  warnings.warn(msg, DataConversionWarning)\n"
     ]
    }
   ],
   "source": [
    "feat_un = normalize(feat)"
   ]
  },
  {
   "cell_type": "code",
   "execution_count": 66,
   "metadata": {
    "collapsed": false,
    "scrolled": true
   },
   "outputs": [],
   "source": [
    "knn = OrderedDict()\n",
    "for i in neighbourhoods:\n",
    "    classif = KNeighborsClassifier(n_neighbors=2*(i+1)-1)\n",
    "    tmp = np.array(())\n",
    "    for idx, dset in enumerate(dataset_names):\n",
    "        ind = np.array([dset == d for d in dats])\n",
    "        ft_train = feat_un[ind < 1] # current dataset is test\n",
    "        ft_test = feat_un[ind >= 1] # all others are train\n",
    "        sx_train = sexy[ind < 1]\n",
    "        sx_test = sexy[ind >= 1]\n",
    "        classif.fit(ft_train, sx_train)\n",
    "        score = classif.score(ft_test, sx_test)\n",
    "        tmp = np.append(tmp, score)\n",
    "#         print \"Classification Accuracy: %.5f\" % (score)\n",
    "    knn[i] = tmp\n",
    "\n",
    "c_knn_loo_dset_unx = np.array(())\n",
    "c_knn_loo_dset_uny = np.array(())\n",
    "for i in neighbourhoods:\n",
    "    c_knn_loo_dset_unx = np.append(c_knn_loo_dset_unx, np.repeat(i, len(dataset_names))+1*np.random.rand(len(dataset_names)))\n",
    "    c_knn_loo_dset_uny = np.append(c_knn_loo_dset_uny, knn[i])"
   ]
  },
  {
   "cell_type": "markdown",
   "metadata": {},
   "source": [
    "---------\n",
    "\n",
    "---------\n",
    "\n",
    "## Save the things"
   ]
  },
  {
   "cell_type": "code",
   "execution_count": 68,
   "metadata": {
    "collapsed": false
   },
   "outputs": [],
   "source": [
    "result_file1 = basepath + '/classification_results.npz'\n",
    "np.savez(result_file1,\n",
    "         neighbourhoods=neighbourhoods,\n",
    "         c_mean_loo_scan=c_mean_loo_scan, c_std_loo_scan=c_std_loo_scan,\n",
    "         c_mean_loo_subj=c_mean_loo_subj, c_std_loo_subj=c_std_loo_subj,\n",
    "         c_knn_loo_dsetx=c_knn_loo_dsetx, c_knn_loo_dsety=c_knn_loo_dsety,\n",
    "         c_knn_loo_dset_cmx=c_knn_loo_dset_cmx, c_knn_loo_dset_cmy=c_knn_loo_dset_cmy,\n",
    "         c_knn_loo_dset_pmcmx=c_knn_loo_dset_pmcmx, c_knn_loo_dset_pmcmy=c_knn_loo_dset_pmcmy,\n",
    "         c_knn_loo_dset_unx=c_knn_loo_dset_unx, c_knn_loo_dset_uny=c_knn_loo_dset_uny)\n",
    "\n",
    "feature_file = basepath + '/classified_vectors.npz'\n",
    "np.savez(feature_file,\n",
    "         ages=ages,\n",
    "         sexy=sexy,\n",
    "         sbjs=sbjs,\n",
    "         feat=feat,\n",
    "         feat_cm=feat_cm,\n",
    "         feat_pm_cm=feat_pm_cm,\n",
    "         feat_un=feat_un)"
   ]
  },
  {
   "cell_type": "markdown",
   "metadata": {},
   "source": [
    "---------\n",
    "\n",
    "---------\n",
    "\n",
    "## Load the things"
   ]
  },
  {
   "cell_type": "code",
   "execution_count": 69,
   "metadata": {
    "collapsed": true
   },
   "outputs": [],
   "source": [
    "feature_file = basepath + '/classified_vectors.npz'\n",
    "result_file1 = basepath + '/classification_results.npz'"
   ]
  },
  {
   "cell_type": "code",
   "execution_count": 71,
   "metadata": {
    "collapsed": false
   },
   "outputs": [],
   "source": [
    "from numpy import array\n",
    "dat = np.load(feature_file)\n",
    "dat.files\n",
    "d2 = np.load(result_file1)\n",
    "for key in d2:\n",
    "    exec('{KEY} = {VALUE}'.format(KEY = key, VALUE = repr(d2[key]))) "
   ]
  },
  {
   "cell_type": "markdown",
   "metadata": {},
   "source": [
    "--------\n",
    "\n",
    "--------\n",
    "## Plotting"
   ]
  },
  {
   "cell_type": "code",
   "execution_count": 74,
   "metadata": {
    "collapsed": false
   },
   "outputs": [
    {
     "name": "stdout",
     "output_type": "stream",
     "text": [
      "19 19 19 19 19\n"
     ]
    }
   ],
   "source": [
    "c_knn_loo_dsetx = np.floor(c_knn_loo_dsetx)\n",
    "c_knn_loo_dset_cmx = np.floor(c_knn_loo_dset_cmx)\n",
    "c_knn_loo_dset_pmcmx= np.floor(c_knn_loo_dset_pmcmx)\n",
    "c_knn_loo_dset_unx = np.floor(c_knn_loo_dset_unx)\n",
    "\n",
    "c_mean_loo_dset = np.array(())\n",
    "c_std_loo_dset = np.array(())\n",
    "\n",
    "c_mean_loo_dset_cm = np.array(())\n",
    "c_std_loo_dset_cm = np.array(())\n",
    "\n",
    "c_mean_loo_dset_pmcm = np.array(())\n",
    "c_std_loo_dset_pmcm = np.array(())\n",
    "\n",
    "c_mean_loo_dset_un = np.array(())\n",
    "c_std_loo_dset_un = np.array(())\n",
    "\n",
    "for idx in neighbourhoods:\n",
    "    tmp = c_knn_loo_dsety[c_knn_loo_dsetx == idx]\n",
    "#     print len(tmp)\n",
    "    c_mean_loo_dset = np.append(c_mean_loo_dset, np.mean(tmp))\n",
    "    c_std_loo_dset = np.append(c_std_loo_dset, np.std(tmp))\n",
    "    \n",
    "    tmp_cm = c_knn_loo_dset_cmy[c_knn_loo_dset_cmx == idx]\n",
    "#     print len(tmp_cm)\n",
    "    c_mean_loo_dset_cm = np.append(c_mean_loo_dset_cm, np.mean(tmp_cm))\n",
    "    c_std_loo_dset_cm = np.append(c_std_loo_dset_cm, np.std(tmp_cm))\n",
    "\n",
    "    tmp_pmcm = c_knn_loo_dset_pmcmy[c_knn_loo_dset_pmcmx == idx]\n",
    "#     print len(tmp_pmcm)\n",
    "    c_mean_loo_dset_pmcm = np.append(c_mean_loo_dset_pmcm, np.mean(tmp_pmcm))\n",
    "    c_std_loo_dset_pmcm = np.append(c_std_loo_dset_pmcm, np.std(tmp_pmcm))\n",
    "    \n",
    "    tmp_pmcm = c_knn_loo_dset_uny[c_knn_loo_dset_unx == idx]\n",
    "#     print len(tmp_pmcm)\n",
    "    c_mean_loo_dset_un = np.append(c_mean_loo_dset_un, np.mean(tmp_pmcm))\n",
    "    c_std_loo_dset_un = np.append(c_std_loo_dset_un, np.std(tmp_pmcm))\n",
    "    \n",
    "print len(c_std_loo_dset_cm), len(c_mean_loo_dset_cm),\n",
    "print len(c_std_loo_dset_pmcm), len(c_mean_loo_dset_pmcm), len(c_mean_loo_dset_un)"
   ]
  },
  {
   "cell_type": "code",
   "execution_count": 138,
   "metadata": {
    "collapsed": false
   },
   "outputs": [
    {
     "name": "stdout",
     "output_type": "stream",
     "text": [
      "['rgb(153,52,4)', 'rgb(217,95,14)', 'rgb(254,153,41)', 'rgb(254,196,79)', 'rgb(254,227,145)', 'rgb(255,255,212)']\n"
     ]
    }
   ],
   "source": [
    "import colorlover as cl\n",
    "from IPython.display import HTML\n",
    "\n",
    "types = ['Chance', 'LOO Session', 'LOO Subj', 'LOO Dataset',\n",
    "         'LOO Dataset (-CM)', 'LOO Dataset (-PM-CM)', 'LOO Dataset (UN)']\n",
    "\n",
    "#sequential orange-red 10\n",
    "cols = cl.scales['6']['seq']['YlOrBr'][5::-1]#.keys()\n",
    "\n",
    "print(cols)\n",
    "cols2 = OrderedDict()\n",
    "cols2[types[0]] = 'rgb(100,100,100)'\n",
    "cols2[types[1]] = 'rgb(38, 205, 111)'\n",
    "cols2[types[2]] = 'rgb(51,160,44)'\n",
    "# cols2[types[3]] = 'rgb(185, 0, 50)'\n",
    "# cols2[types[4]] = 'rgb(246, 51, 0)'\n",
    "for idx, d in enumerate(types[3:]):\n",
    "    cols2[d] = cols[idx]\n",
    "cols = cols2\n",
    "HTML(cl.to_html(cols.values()))\n",
    "cols_list = cols.values()\n",
    "# HTML(cl.to_html(cols))"
   ]
  },
  {
   "cell_type": "code",
   "execution_count": 139,
   "metadata": {
    "collapsed": false
   },
   "outputs": [],
   "source": [
    "cols_list = cl.to_numeric(cols_list)\n",
    "cols_list = [tuple([cpit/255 for cpit in cthing]) for cthing in cols_list]"
   ]
  },
  {
   "cell_type": "code",
   "execution_count": null,
   "metadata": {
    "collapsed": true
   },
   "outputs": [],
   "source": [
    "import ndmg.stats.plotly_helper as plh\n",
    "from plotly.offline import download_plotlyjs, init_notebook_mode, iplot, plot\n",
    "from plotly.graph_objs import *\n",
    "\n",
    "init_notebook_mode()\n",
    "\n"
   ]
  },
  {
   "cell_type": "code",
   "execution_count": 140,
   "metadata": {
    "collapsed": false
   },
   "outputs": [
    {
     "data": {
      "image/png": "[encoded data removed]",
      "text/plain": [
       "<matplotlib.figure.Figure at 0x11497a150>"
      ]
     },
     "metadata": {},
     "output_type": "display_data"
    }
   ],
   "source": [
    "fig = plt.figure(figsize=(1.2*8,8))\n",
    "plt.errorbar(neighbourhoods-0.9, c_mean_loo_scan, c_std_loo_scan/np.sqrt(len(sexy)), lw=3, color=cols_list[1]) #'#00ee00')\n",
    "plt.errorbar(neighbourhoods-0.6, c_mean_loo_subj, c_std_loo_subj/np.sqrt(len(sexy)), lw=3, color=cols_list[2]) #'#ee0000')\n",
    "plt.hold(True)\n",
    "plt.axhline(sum(sexy)/len(sexy), linestyle='--', lw=5, alpha=0.5, color=cols_list[0]) #\"#0000ee\")\n",
    "plt.errorbar(neighbourhoods-0.3, c_mean_loo_dset, c_std_loo_dset/np.sqrt(len(dataset*1)), lw=3, color=cols_list[3]) #'#000000')\n",
    "plt.errorbar(neighbourhoods+0.3, c_mean_loo_dset_cm, c_std_loo_dset_cm/np.sqrt(len(dataset*1)), lw=3, color=cols_list[4]) #'#ee00ee')\n",
    "plt.errorbar(neighbourhoods+0.6, c_mean_loo_dset_pmcm, c_std_loo_dset_pmcm/np.sqrt(len(dataset*1)), lw=3, color=cols_list[5]) #'#eeee00')\n",
    "plt.errorbar(neighbourhoods+0.9, c_mean_loo_dset_un, c_std_loo_dset_un/np.sqrt(len(dataset*1)), lw=3, color=cols_list[6]) #'#606060')\n",
    "\n",
    "# plt.ylim((0.5, 0.7))\n",
    "# plt.yticks((0.5, 0.6, 0.7),(0.5, 0.6, 0.7))\n",
    "# plt.xticks((0, 20, 40),(0, 20, 40))\n",
    "plt.xlim([2, 40.3])\n",
    "plt.ylim([0.35, 0.8])\n",
    "plt.xlabel('Size of Neighbourhood (k)')\n",
    "plt.ylabel('Accuracy')\n",
    "plt.title('KNN Sex Classification With Multiple Datasets')\n",
    "lgd = plt.legend(['Chance'] + types,\n",
    "                 fontsize=16, bbox_to_anchor = (1.5, 1))\n",
    "plt.tight_layout(1)\n",
    "plt.savefig(basepath + 'classification_desikan.png',\n",
    "            bbox_extra_artists=(lgd,), bbox_inches='tight')\n",
    "plt.show()"
   ]
  },
  {
   "cell_type": "code",
   "execution_count": null,
   "metadata": {
    "collapsed": true
   },
   "outputs": [],
   "source": []
  }
 ],
 "metadata": {
  "kernelspec": {
   "display_name": "Python 2",
   "language": "python",
   "name": "python2"
  },
  "language_info": {
   "codemirror_mode": {
    "name": "ipython",
    "version": 2
   },
   "file_extension": ".py",
   "mimetype": "text/x-python",
   "name": "python",
   "nbconvert_exporter": "python",
   "pygments_lexer": "ipython2",
   "version": "2.7.11"
  }
 },
 "nbformat": 4,
 "nbformat_minor": 0
}
