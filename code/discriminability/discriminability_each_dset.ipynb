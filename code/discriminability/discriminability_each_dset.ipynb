{
 "cells": [
  {
   "cell_type": "code",
   "execution_count": 1,
   "metadata": {
    "collapsed": true
   },
   "outputs": [],
   "source": [
    "import networkx as nx\n",
    "import numpy as np\n",
    "import os.path as op\n",
    "import scipy as sp\n",
    "\n",
    "import os\n",
    "import csv\n",
    "\n",
    "from collections import OrderedDict\n",
    "from sklearn.preprocessing import normalize\n",
    "from sklearn.neighbors import DistanceMetric\n",
    "from scipy.linalg import svd\n",
    "from scipy.linalg import norm\n",
    "\n",
    "np.random.seed(12345678)  # for reproducibility, set random seed"
   ]
  },
  {
   "cell_type": "code",
   "execution_count": 9,
   "metadata": {
    "collapsed": false
   },
   "outputs": [
    {
     "name": "stdout",
     "output_type": "stream",
     "text": [
      "Datasets: BNU1 (114), KKI2009 (42), NKI1 (40), SWU4 (454), HNU1 (300)\n",
      "Total Subjects: 950\n"
     ]
    }
   ],
   "source": [
    "# path = '/Users/gkiar/code/ocp/ndmg-paper/data/new/'\n",
    "# dsets = ['BNU1', 'HNU1', 'KKI2009', 'MRN114', 'MRN1313', 'NKI1', 'SWU4']\n",
    "path = '/Users/gkiar/code/ocp/ndmg-paper/data/cloud/'\n",
    "# dsets = ['BNU1', 'BNU3', 'HNU1', 'Jung2015', 'KKI2009', 'MRN114', 'MRN1313', 'NKI1', 'NKIENH', 'SWU4']\n",
    "dsets = ['BNU1', 'KKI2009', 'NKI1', 'SWU4', 'HNU1']\n",
    "# dsets = ['BNU1', 'BNU3', 'HNU1', 'Jung2015', 'MRN114', 'MRN1313', 'NKI1', 'NKIENH', 'SWU4']\n",
    "\n",
    "# dsets = ['BNU1', 'KKI2009', 'HNU1', 'NKI1', 'SWU4']\n",
    "# dsets = ['BNU1', 'HNU1', 'KKI2009', 'MRN114', 'MRN1313', 'NKI24', 'SWU4']\n",
    "# dsets = ['KKI2009']\n",
    "# dsets = ['SWU4']\n",
    "\n",
    "dir_names = [path + '/' + d for d in dsets]\n",
    "\n",
    "N = 70\n",
    "\n",
    "fs = OrderedDict()\n",
    "for idx, dd in enumerate(dsets):\n",
    "    fs[dd] = [root + \"/\" + fl for root, dirs, files in os.walk(dir_names[idx])\n",
    "              for fl in files if fl.endswith(\".gpickle\")]\n",
    "\n",
    "# ps = {os.path.splitext(os.path.basename(fl))[0] : root + \"/\" + fl\n",
    "#       for root, dirs, files in os.walk(path+'phenotypes')\n",
    "#       for fl in files if fl.endswith(\".csv\") }\n",
    "\n",
    "print \"Datasets: \" + \", \".join([fkey + ' (' + str(len(fs[fkey])) + ')'\n",
    "                                for fkey in fs])\n",
    "S = sum([len(fs[key]) for key in fs])\n",
    "print \"Total Subjects: %d\" % (S)"
   ]
  },
  {
   "cell_type": "code",
   "execution_count": 10,
   "metadata": {
    "collapsed": true
   },
   "outputs": [],
   "source": [
    "def loadGraphs(filenames, verb=False):\n",
    "    \"\"\"\n",
    "    Given a list of files, returns a dictionary of graphs\n",
    "\n",
    "    Required parameters:\n",
    "        filenames:\n",
    "            - List of filenames for graphs\n",
    "    Optional parameters:\n",
    "        verb:\n",
    "            - Toggles verbose output statements\n",
    "    \"\"\"\n",
    "    #  Initializes empty dictionary\n",
    "    gstruct = OrderedDict()\n",
    "    for idx, files in enumerate(filenames):\n",
    "        if verb:\n",
    "            print \"Loading: \" + files\n",
    "        #  Adds graphs to dictionary with key being filename\n",
    "        fname = os.path.basename(files)\n",
    "        gstruct[fname] = nx.read_gpickle(files)\n",
    "    return gstruct\n",
    "\n",
    "def constructGraphDict(names, fs, verb=False):\n",
    "    \"\"\"\n",
    "    Given a set of files and a directory to put things, loads graphs.\n",
    "\n",
    "    Required parameters:\n",
    "        names:\n",
    "            - List of names of the datasets\n",
    "        fs:\n",
    "            - Dictionary of lists of files in each dataset\n",
    "    Optional parameters:\n",
    "        verb:\n",
    "            - Toggles verbose output statements\n",
    "    \"\"\"\n",
    "    #  Loads graphs into memory for all datasets\n",
    "    graphs = OrderedDict()\n",
    "    for idx, name in enumerate(names):\n",
    "        if verb:\n",
    "            print \"Loading Dataset: \" + name\n",
    "        # The key for the dictionary of graphs is the dataset name\n",
    "        graphs[name] = loadGraphs(fs[name], verb=verb)\n",
    "    return graphs\n",
    "\n",
    "def partial_disc(D, labels, subject, trial1, trial2):\n",
    "    enum = np.arange(D.shape[0])\n",
    "    idx1 = [i for i, x in enumerate(labels) if x == subject]\n",
    "    t1 = enum[idx1][trial1]\n",
    "    t2 = enum[idx1][trial2]\n",
    "    d_t1_t2 = D[t1][t2]\n",
    "    \n",
    "    idx2 = [i for i, x in enumerate(labels) if x != subject]\n",
    "    d_ra = [D[t1][x] for x in enum[idx2]]\n",
    "    \n",
    "    return np.mean(d_t1_t2 < d_ra)\n",
    "\n",
    "def distance_matrix(data, metric, symmetric = True):\n",
    "    n = data.shape[2]\n",
    "    dist_matrix = np.zeros((n, n))\n",
    "    if symmetric:\n",
    "        for i in range(n):\n",
    "            for j in range(i):\n",
    "                tmp = metric(data[:,:,i] - data[:,:,j])\n",
    "                dist_matrix[i][j] = tmp\n",
    "                dist_matrix[j][i] = tmp\n",
    "    else:\n",
    "        for i in range(n):\n",
    "            for j in range(n):\n",
    "                dist_matrix[i][j] = metric(data[i] - data[j])\n",
    "    return dist_matrix\n",
    "\n",
    "def discriminibility(data, labels, metric):\n",
    "    dist_matrix = distance_matrix(data, metric)\n",
    "    partials = []\n",
    "    for s in list(set(labels)):\n",
    "        num = ids.count(s)\n",
    "        for t in range(num):\n",
    "            for tt in range(num):\n",
    "                if tt != t:\n",
    "                    p = partial_disc(dist_matrix, labels, s, t, tt)\n",
    "                    partials.append(p)\n",
    "    return dist_matrix, np.mean(partials)"
   ]
  },
  {
   "cell_type": "code",
   "execution_count": 11,
   "metadata": {
    "collapsed": true
   },
   "outputs": [],
   "source": [
    "graphs = constructGraphDict(dsets, fs, verb=False)"
   ]
  },
  {
   "cell_type": "markdown",
   "metadata": {},
   "source": [
    "## All subjs, ID = subj id"
   ]
  },
  {
   "cell_type": "code",
   "execution_count": 28,
   "metadata": {
    "collapsed": false,
    "scrolled": true
   },
   "outputs": [
    {
     "name": "stdout",
     "output_type": "stream",
     "text": [
      "Shape: (70, 70, 114), 114\n",
      "BNU1 (114): 0.984257518797\n",
      "Shape: (70, 70, 42), 42\n",
      "KKI2009 (42): 1.0\n",
      "Shape: (70, 70, 40), 40\n",
      "NKI1 (40): 0.983552631579\n",
      "Shape: (70, 70, 454), 454\n",
      "SWU4 (454): 0.883630267826\n",
      "Shape: (70, 70, 300), 300\n",
      "HNU1 (300): 0.993232439336\n",
      "Shape: (70, 70, 950), 950\n",
      "Total (950): 0.993626477541\n"
     ]
    }
   ],
   "source": [
    "bigmat = np.zeros((70, 70, 0))\n",
    "bigids = []\n",
    "\n",
    "for dset in graphs.keys():\n",
    "    mat = np.zeros((N, N, len(graphs[dset].keys())))\n",
    "    ids = []\n",
    "    c = 0\n",
    "    for subj in graphs[dset].keys():\n",
    "        ids += [subj.split(\"_\")[0].split(\"-\")[1]]\n",
    "        \n",
    "        tmpg = np.array(nx.adj_matrix(graphs[dset][subj]).todense())\n",
    "        mat[:, :, c] = tmpg\n",
    "        c += 1\n",
    "    print \"Shape: {}, {}\".format(mat.shape, len(ids))\n",
    "    dist, disc = discriminibility(mat, ids, norm)\n",
    "    print '{} ({}): {}'.format(dset, len(graphs[dset].keys()), disc)\n",
    "    bigmat = np.append(bigmat, mat, axis=2)\n",
    "    bigids += ids\n",
    "\n",
    "print \"Shape: {}, {}\".format(bigmat.shape, len(bigids))\n",
    "dist, disc = discriminibility(bigmat, bigids, norm)\n",
    "print 'Total ({}): {}'.format(S, disc)"
   ]
  },
  {
   "cell_type": "code",
   "execution_count": 42,
   "metadata": {
    "collapsed": false
   },
   "outputs": [
    {
     "name": "stdout",
     "output_type": "stream",
     "text": [
      "1110\n",
      "BNU1 (114): 0.990910553411\n",
      "KKI2009 (42): 1.0\n",
      "NKI1 (40): 0.983552631579\n",
      "1532\n",
      "2804\n",
      "1510\n",
      "1506\n",
      "SWU4 (454): 0.893292560858\n",
      "2692\n",
      "2702\n",
      "2650\n",
      "HNU1 (300): 0.993336485986\n",
      "Total (942): 0.993773328929\n"
     ]
    }
   ],
   "source": [
    "bigmat = np.zeros((70, 70, 0))\n",
    "bigids = []\n",
    "\n",
    "for dset in graphs.keys():\n",
    "    mat = np.zeros((N, N, len(graphs[dset].keys())))\n",
    "    ids = []\n",
    "    c = 0\n",
    "    for subj in graphs[dset].keys():\n",
    "        \n",
    "        tmpg = np.array(nx.adj_matrix(graphs[dset][subj]).todense())\n",
    "        ratio = np.sum(tmpg > 0)/1.0/N/N\n",
    "        nedges = np.sum(tmpg)\n",
    "#         print nedges\n",
    "        if ratio < 0.32 or ratio > 0.54 or nedges > 8e7:\n",
    "            print np.sum(tmpg > 0)\n",
    "            mat = np.delete(mat, c, 2)\n",
    "        else:\n",
    "            ids += [subj.split(\"_\")[0].split(\"-\")[1]]\n",
    "            mat[:, :, c] = tmpg\n",
    "            c += 1\n",
    "    dist, disc = discriminibility(mat, ids, norm)\n",
    "    print '{} ({}): {}'.format(dset, len(graphs[dset].keys()), disc)\n",
    "    bigmat = np.append(bigmat, mat, axis=2)\n",
    "    bigids += ids\n",
    "\n",
    "dist, disc = discriminibility(bigmat, bigids, norm)\n",
    "print 'Total ({}): {}'.format(len(bigids), disc)"
   ]
  },
  {
   "cell_type": "code",
   "execution_count": null,
   "metadata": {
    "collapsed": true
   },
   "outputs": [],
   "source": []
  }
 ],
 "metadata": {
  "kernelspec": {
   "display_name": "Python 2",
   "language": "python",
   "name": "python2"
  },
  "language_info": {
   "codemirror_mode": {
    "name": "ipython",
    "version": 2
   },
   "file_extension": ".py",
   "mimetype": "text/x-python",
   "name": "python",
   "nbconvert_exporter": "python",
   "pygments_lexer": "ipython2",
   "version": "2.7.11"
  }
 },
 "nbformat": 4,
 "nbformat_minor": 0
}
